{
 "cells": [
  {
   "cell_type": "markdown",
   "metadata": {},
   "source": [
    "## Load Libraries"
   ]
  },
  {
   "cell_type": "code",
   "execution_count": 13,
   "metadata": {},
   "outputs": [
    {
     "name": "stdout",
     "output_type": "stream",
     "text": [
      "\u001b[33mWARNING: The directory '/home/ubuntu/.cache/pip' or its parent directory is not owned or is not writable by the current user. The cache has been disabled. Check the permissions and owner of that directory. If executing pip with sudo, you may want sudo's -H flag.\u001b[0m\n",
      "Found existing installation: spacy 2.1.3\n",
      "Uninstalling spacy-2.1.3:\n",
      "  Successfully uninstalled spacy-2.1.3\n"
     ]
    }
   ],
   "source": [
    "# !sudo pip uninstall spacy -y"
   ]
  },
  {
   "cell_type": "code",
   "execution_count": 8,
   "metadata": {},
   "outputs": [
    {
     "name": "stdout",
     "output_type": "stream",
     "text": [
      "Collecting pytest-openfiles==0.3.1\n",
      "  Downloading pytest-openfiles-0.3.1.tar.gz (5.9 kB)\n",
      "Requirement already satisfied: pytest>=2.8.0 in /opt/conda/lib/python3.7/site-packages (from pytest-openfiles==0.3.1) (3.10.0)\n",
      "Requirement already satisfied: psutil in /opt/conda/lib/python3.7/site-packages (from pytest-openfiles==0.3.1) (5.7.0)\n",
      "Requirement already satisfied: attrs>=17.4.0 in /home/ubuntu/.local/lib/python3.7/site-packages (from pytest>=2.8.0->pytest-openfiles==0.3.1) (20.3.0)\n",
      "Requirement already satisfied: setuptools in /home/ubuntu/.local/lib/python3.7/site-packages (from pytest>=2.8.0->pytest-openfiles==0.3.1) (54.1.0)\n",
      "Requirement already satisfied: more-itertools>=4.0.0 in /opt/conda/lib/python3.7/site-packages (from pytest>=2.8.0->pytest-openfiles==0.3.1) (8.2.0)\n",
      "Requirement already satisfied: atomicwrites>=1.0 in /opt/conda/lib/python3.7/site-packages (from pytest>=2.8.0->pytest-openfiles==0.3.1) (1.3.0)\n",
      "Requirement already satisfied: pluggy>=0.7 in /opt/conda/lib/python3.7/site-packages (from pytest>=2.8.0->pytest-openfiles==0.3.1) (0.13.1)\n",
      "Requirement already satisfied: py>=1.5.0 in /opt/conda/lib/python3.7/site-packages (from pytest>=2.8.0->pytest-openfiles==0.3.1) (1.6.0)\n",
      "Requirement already satisfied: six>=1.10.0 in /home/ubuntu/.local/lib/python3.7/site-packages (from pytest>=2.8.0->pytest-openfiles==0.3.1) (1.15.0)\n",
      "Requirement already satisfied: importlib-metadata>=0.12; python_version < \"3.8\" in /home/ubuntu/.local/lib/python3.7/site-packages (from pluggy>=0.7->pytest>=2.8.0->pytest-openfiles==0.3.1) (3.7.0)\n",
      "Requirement already satisfied: typing-extensions>=3.6.4; python_version < \"3.8\" in /home/ubuntu/.local/lib/python3.7/site-packages (from importlib-metadata>=0.12; python_version < \"3.8\"->pluggy>=0.7->pytest>=2.8.0->pytest-openfiles==0.3.1) (3.7.4.3)\n",
      "Requirement already satisfied: zipp>=0.5 in /home/ubuntu/.local/lib/python3.7/site-packages (from importlib-metadata>=0.12; python_version < \"3.8\"->pluggy>=0.7->pytest>=2.8.0->pytest-openfiles==0.3.1) (3.4.1)\n",
      "Building wheels for collected packages: pytest-openfiles\n",
      "  Building wheel for pytest-openfiles (setup.py) ... \u001b[?25ldone\n",
      "\u001b[?25h  Created wheel for pytest-openfiles: filename=pytest_openfiles-0.3.1-py3-none-any.whl size=5830 sha256=5171b47af79663872d22a4a121a56f980f99434456332d30ce2d23f319ab898d\n",
      "  Stored in directory: /home/ubuntu/.cache/pip/wheels/5f/62/2d/7fac35cb6403d712869cf004a4cabed1c9290b1a5f4087460b\n",
      "Successfully built pytest-openfiles\n",
      "\u001b[31mERROR: pytest-astropy 0.8.0 has requirement pytest>=4.6, but you'll have pytest 3.10.0 which is incompatible.\u001b[0m\n",
      "Installing collected packages: pytest-openfiles\n",
      "Successfully installed pytest-openfiles-0.3.1\n",
      "\u001b[33mWARNING: You are using pip version 20.1; however, version 21.0.1 is available.\n",
      "You should consider upgrading via the '/opt/conda/bin/python -m pip install --upgrade pip' command.\u001b[0m\n",
      "Note: you may need to restart the kernel to use updated packages.\n"
     ]
    }
   ],
   "source": [
    "pip install pytest-openfiles==0.3.1 --user"
   ]
  },
  {
   "cell_type": "code",
   "execution_count": 9,
   "metadata": {},
   "outputs": [
    {
     "name": "stdout",
     "output_type": "stream",
     "text": [
      "Collecting pytest==4.6\n",
      "  Using cached pytest-4.6.0-py2.py3-none-any.whl (229 kB)\n",
      "Requirement already satisfied: packaging in /opt/conda/lib/python3.7/site-packages (from pytest==4.6) (17.1)\n",
      "Requirement already satisfied: six>=1.10.0 in /home/ubuntu/.local/lib/python3.7/site-packages (from pytest==4.6) (1.15.0)\n",
      "Requirement already satisfied: attrs>=17.4.0 in /home/ubuntu/.local/lib/python3.7/site-packages (from pytest==4.6) (20.3.0)\n",
      "Requirement already satisfied: importlib-metadata>=0.12 in /home/ubuntu/.local/lib/python3.7/site-packages (from pytest==4.6) (3.7.0)\n",
      "Requirement already satisfied: py>=1.5.0 in /opt/conda/lib/python3.7/site-packages (from pytest==4.6) (1.6.0)\n",
      "Requirement already satisfied: pluggy<1.0,>=0.12 in /opt/conda/lib/python3.7/site-packages (from pytest==4.6) (0.13.1)\n",
      "Requirement already satisfied: more-itertools>=4.0.0; python_version > \"2.7\" in /opt/conda/lib/python3.7/site-packages (from pytest==4.6) (8.2.0)\n",
      "Requirement already satisfied: wcwidth in /opt/conda/lib/python3.7/site-packages (from pytest==4.6) (0.1.9)\n",
      "Requirement already satisfied: atomicwrites>=1.0 in /opt/conda/lib/python3.7/site-packages (from pytest==4.6) (1.3.0)\n",
      "Requirement already satisfied: pyparsing>=2.0.2 in /opt/conda/lib/python3.7/site-packages (from packaging->pytest==4.6) (2.4.6)\n",
      "Requirement already satisfied: typing-extensions>=3.6.4; python_version < \"3.8\" in /home/ubuntu/.local/lib/python3.7/site-packages (from importlib-metadata>=0.12->pytest==4.6) (3.7.4.3)\n",
      "Requirement already satisfied: zipp>=0.5 in /home/ubuntu/.local/lib/python3.7/site-packages (from importlib-metadata>=0.12->pytest==4.6) (3.4.1)\n",
      "Installing collected packages: pytest\n",
      "Successfully installed pytest-4.6.0\n",
      "\u001b[33mWARNING: You are using pip version 20.1; however, version 21.0.1 is available.\n",
      "You should consider upgrading via the '/opt/conda/bin/python -m pip install --upgrade pip' command.\u001b[0m\n",
      "Note: you may need to restart the kernel to use updated packages.\n"
     ]
    }
   ],
   "source": [
    "pip install pytest==4.6 --user"
   ]
  },
  {
   "cell_type": "code",
   "execution_count": 10,
   "metadata": {},
   "outputs": [
    {
     "name": "stdout",
     "output_type": "stream",
     "text": [
      "Collecting shapash\n",
      "  Using cached shapash-1.1.0-py2.py3-none-any.whl (835 kB)\n",
      "Processing /home/ubuntu/.cache/pip/wheels/9f/db/79/5701e1753b0e5fb306a7198056308f759963c63fa41515d807/dash_table-4.11.0-py3-none-any.whl\n",
      "Collecting pandas==1.0.3\n",
      "  Using cached pandas-1.0.3-cp37-cp37m-manylinux1_x86_64.whl (10.0 MB)\n",
      "Processing /home/ubuntu/.cache/pip/wheels/90/b9/27/c290d05058f55b0d4af28f0a8602017ffe13895291f163115b/dash_core_components-1.13.0-py3-none-any.whl\n",
      "Processing /home/ubuntu/.cache/pip/wheels/df/b8/18/2c0a6105152e62dd9a7cf47b5110b9cedb0c8739babdef64b7/shap-0.37.0-cp37-cp37m-linux_x86_64.whl\n",
      "Processing /home/ubuntu/.cache/pip/wheels/ba/30/67/e50ae4929e0fe7df1be53bf3557dbe507e4f22f34e0d2d5145/dash_bootstrap_components-0.9.1-py3-none-any.whl\n",
      "Processing /home/ubuntu/.cache/pip/wheels/fe/54/53/a8d448db5592874db4313240571ca2c069e55f6a6b29bf5847/dash_daq-0.5.0-py3-none-any.whl\n",
      "Collecting numpy==1.18.1\n",
      "  Using cached numpy-1.18.1-cp37-cp37m-manylinux1_x86_64.whl (20.1 MB)\n",
      "Processing /home/ubuntu/.cache/pip/wheels/28/60/30/2f9f3884e6c75ea2588026586e6b1a6e95922d7369ce2c8dba/dash-1.17.0-py3-none-any.whl\n",
      "Collecting nbformat>4.2.0\n",
      "  Using cached nbformat-5.1.2-py3-none-any.whl (113 kB)\n",
      "Collecting plotly==4.12.0\n",
      "  Using cached plotly-4.12.0-py2.py3-none-any.whl (13.1 MB)\n",
      "Collecting numba==0.51.2\n",
      "  Using cached numba-0.51.2-cp37-cp37m-manylinux2014_x86_64.whl (3.1 MB)\n",
      "Processing /home/ubuntu/.cache/pip/wheels/c8/a8/46/2900a0845e7992a317eca9ba18e55d47c03ccc4e80d6a37e73/dash_html_components-1.1.1-py3-none-any.whl\n",
      "Processing /home/ubuntu/.cache/pip/wheels/71/17/b0/8bebc086e55a01cf4036902b6ca05fce3fb4c7fd48dbd07717/dash_renderer-1.8.3-py3-none-any.whl\n",
      "Collecting pytz>=2017.2\n",
      "  Using cached pytz-2021.1-py2.py3-none-any.whl (510 kB)\n",
      "Collecting python-dateutil>=2.6.1\n",
      "  Using cached python_dateutil-2.8.1-py2.py3-none-any.whl (227 kB)\n",
      "Collecting scipy\n",
      "  Using cached scipy-1.6.1-cp37-cp37m-manylinux1_x86_64.whl (27.4 MB)\n",
      "Collecting scikit-learn\n",
      "  Using cached scikit_learn-0.24.1-cp37-cp37m-manylinux2010_x86_64.whl (22.3 MB)\n",
      "Collecting tqdm>4.25.0\n",
      "  Using cached tqdm-4.59.0-py2.py3-none-any.whl (74 kB)\n",
      "Collecting slicer==0.0.3\n",
      "  Using cached slicer-0.0.3-py3-none-any.whl (11 kB)\n",
      "Processing /home/ubuntu/.cache/pip/wheels/d0/d3/52/79fcf73c0a601dd585e8113cd84e01f84cf6c0eb4f671f36e2/Flask_Compress-1.9.0-py3-none-any.whl\n",
      "Collecting Flask>=1.0.2\n",
      "  Using cached Flask-1.1.2-py2.py3-none-any.whl (94 kB)\n",
      "Processing /home/ubuntu/.cache/pip/wheels/56/b0/fe/4410d17b32f1f0c3cf54cdfb2bc04d7b4b8f4ae377e2229ba0/future-0.18.2-py3-none-any.whl\n",
      "Collecting jsonschema!=2.5.0,>=2.4\n",
      "  Using cached jsonschema-3.2.0-py2.py3-none-any.whl (56 kB)\n",
      "Collecting ipython-genutils\n",
      "  Using cached ipython_genutils-0.2.0-py2.py3-none-any.whl (26 kB)\n",
      "Collecting jupyter-core\n",
      "  Using cached jupyter_core-4.7.1-py3-none-any.whl (82 kB)\n",
      "Collecting traitlets>=4.1\n",
      "  Using cached traitlets-5.0.5-py3-none-any.whl (100 kB)\n",
      "Collecting six\n",
      "  Using cached six-1.15.0-py2.py3-none-any.whl (10 kB)\n",
      "Processing /home/ubuntu/.cache/pip/wheels/f9/8d/8d/f6af3f7f9eea3553bc2fe6d53e4b287dad18b06a861ac56ddf/retrying-1.3.3-py3-none-any.whl\n",
      "Collecting setuptools\n",
      "  Using cached setuptools-54.1.0-py3-none-any.whl (784 kB)\n",
      "Collecting llvmlite<0.35,>=0.34.0.dev0\n",
      "  Using cached llvmlite-0.34.0-cp37-cp37m-manylinux2010_x86_64.whl (24.6 MB)\n",
      "Collecting joblib>=0.11\n",
      "  Using cached joblib-1.0.1-py3-none-any.whl (303 kB)\n",
      "Collecting threadpoolctl>=2.0.0\n",
      "  Using cached threadpoolctl-2.1.0-py3-none-any.whl (12 kB)\n",
      "Collecting brotli\n",
      "  Using cached Brotli-1.0.9-cp37-cp37m-manylinux1_x86_64.whl (357 kB)\n",
      "Collecting Jinja2>=2.10.1\n",
      "  Using cached Jinja2-2.11.3-py2.py3-none-any.whl (125 kB)\n",
      "Collecting click>=5.1\n",
      "  Using cached click-7.1.2-py2.py3-none-any.whl (82 kB)\n",
      "Collecting itsdangerous>=0.24\n",
      "  Using cached itsdangerous-1.1.0-py2.py3-none-any.whl (16 kB)\n",
      "Collecting Werkzeug>=0.15\n",
      "  Using cached Werkzeug-1.0.1-py2.py3-none-any.whl (298 kB)\n",
      "Collecting importlib-metadata; python_version < \"3.8\"\n",
      "  Using cached importlib_metadata-3.7.0-py3-none-any.whl (11 kB)\n",
      "Processing /home/ubuntu/.cache/pip/wheels/a5/52/bf/71258a1d7b3c8cbe1ee53f9314c6f65f20385481eaee573cc5/pyrsistent-0.17.3-cp37-cp37m-linux_x86_64.whl\n",
      "Collecting attrs>=17.4.0\n",
      "  Using cached attrs-20.3.0-py2.py3-none-any.whl (49 kB)\n",
      "Collecting MarkupSafe>=0.23\n",
      "  Using cached MarkupSafe-1.1.1-cp37-cp37m-manylinux2010_x86_64.whl (33 kB)\n",
      "Collecting zipp>=0.5\n",
      "  Using cached zipp-3.4.1-py3-none-any.whl (5.2 kB)\n",
      "Collecting typing-extensions>=3.6.4; python_version < \"3.8\"\n",
      "  Using cached typing_extensions-3.7.4.3-py3-none-any.whl (22 kB)\n",
      "Installing collected packages: dash-table, numpy, pytz, six, python-dateutil, pandas, dash-core-components, scipy, joblib, threadpoolctl, scikit-learn, setuptools, llvmlite, numba, tqdm, slicer, shap, brotli, MarkupSafe, Jinja2, click, itsdangerous, Werkzeug, Flask, flask-compress, retrying, plotly, dash-html-components, future, dash-renderer, dash, dash-bootstrap-components, dash-daq, zipp, typing-extensions, importlib-metadata, pyrsistent, attrs, jsonschema, ipython-genutils, traitlets, jupyter-core, nbformat, shapash\n",
      "Successfully installed Flask-1.1.2 Jinja2-2.11.3 MarkupSafe-1.1.1 Werkzeug-1.0.1 attrs-20.3.0 brotli-1.0.9 click-7.1.2 dash-1.17.0 dash-bootstrap-components-0.9.1 dash-core-components-1.13.0 dash-daq-0.5.0 dash-html-components-1.1.1 dash-renderer-1.8.3 dash-table-4.11.0 flask-compress-1.9.0 future-0.18.2 importlib-metadata-3.7.0 ipython-genutils-0.2.0 itsdangerous-1.1.0 joblib-1.0.1 jsonschema-3.2.0 jupyter-core-4.7.1 llvmlite-0.34.0 nbformat-5.1.2 numba-0.51.2 numpy-1.18.1 pandas-1.0.3 plotly-4.12.0 pyrsistent-0.17.3 python-dateutil-2.8.1 pytz-2021.1 retrying-1.3.3 scikit-learn-0.24.1 scipy-1.6.1 setuptools-54.1.0 shap-0.37.0 shapash-1.1.0 six-1.15.0 slicer-0.0.3 threadpoolctl-2.1.0 tqdm-4.59.0 traitlets-5.0.5 typing-extensions-3.7.4.3 zipp-3.4.1\n",
      "\u001b[33mWARNING: You are using pip version 20.1; however, version 21.0.1 is available.\n",
      "You should consider upgrading via the '/opt/conda/bin/python -m pip install --upgrade pip' command.\u001b[0m\n",
      "Note: you may need to restart the kernel to use updated packages.\n"
     ]
    }
   ],
   "source": [
    "pip install --ignore-installed shapash --user"
   ]
  },
  {
   "cell_type": "code",
   "execution_count": 1,
   "metadata": {},
   "outputs": [],
   "source": [
    "from shapash.explainer.smart_explainer import SmartExplainer\n",
    "xpl = SmartExplainer() # optional parameter"
   ]
  },
  {
   "cell_type": "code",
   "execution_count": null,
   "metadata": {},
   "outputs": [],
   "source": [
    "# pip install shap"
   ]
  },
  {
   "cell_type": "code",
   "execution_count": 21,
   "metadata": {},
   "outputs": [],
   "source": [
    "import shap\n",
    "import sklearn\n",
    "from sklearn.model_selection import train_test_split \n",
    "import xgboost as xgb\n",
    "import pandas as pd\n",
    "import numpy as np"
   ]
  },
  {
   "cell_type": "code",
   "execution_count": 8,
   "metadata": {},
   "outputs": [],
   "source": [
    "X,y = shap.datasets.boston()\n",
    "Xtrain,Xtest,ytrain,ytest = train_test_split(X, y, test_size=0.2, random_state=0)"
   ]
  },
  {
   "cell_type": "code",
   "execution_count": 12,
   "metadata": {},
   "outputs": [
    {
     "name": "stdout",
     "output_type": "stream",
     "text": [
      "[21:52:39] WARNING: ../src/objective/regression_obj.cu:170: reg:linear is now deprecated in favor of reg:squarederror.\n"
     ]
    }
   ],
   "source": [
    "# regressor = xgb.train({'objective':'reg:linear'}, xgb.DMatrix(Xtrain, label=ytrain))\n",
    "\n",
    "# xgboost not supported"
   ]
  },
  {
   "cell_type": "code",
   "execution_count": 15,
   "metadata": {},
   "outputs": [
    {
     "data": {
      "text/plain": [
       "GradientBoostingRegressor()"
      ]
     },
     "execution_count": 15,
     "metadata": {},
     "output_type": "execute_result"
    }
   ],
   "source": [
    "regressor = sklearn.ensemble.GradientBoostingRegressor()\n",
    "regressor.fit(Xtrain, ytrain)"
   ]
  },
  {
   "cell_type": "code",
   "execution_count": 44,
   "metadata": {},
   "outputs": [],
   "source": [
    "y_pred = pd.DataFrame(ytest, columns=['_predict_'], index=Xtest.index)"
   ]
  },
  {
   "cell_type": "code",
   "execution_count": 52,
   "metadata": {},
   "outputs": [
    {
     "data": {
      "text/html": [
       "<div>\n",
       "<style scoped>\n",
       "    .dataframe tbody tr th:only-of-type {\n",
       "        vertical-align: middle;\n",
       "    }\n",
       "\n",
       "    .dataframe tbody tr th {\n",
       "        vertical-align: top;\n",
       "    }\n",
       "\n",
       "    .dataframe thead th {\n",
       "        text-align: right;\n",
       "    }\n",
       "</style>\n",
       "<table border=\"1\" class=\"dataframe\">\n",
       "  <thead>\n",
       "    <tr style=\"text-align: right;\">\n",
       "      <th></th>\n",
       "      <th>_predict_</th>\n",
       "    </tr>\n",
       "  </thead>\n",
       "  <tbody>\n",
       "    <tr>\n",
       "      <th>329</th>\n",
       "      <td>22.6</td>\n",
       "    </tr>\n",
       "    <tr>\n",
       "      <th>371</th>\n",
       "      <td>50.0</td>\n",
       "    </tr>\n",
       "    <tr>\n",
       "      <th>219</th>\n",
       "      <td>23.0</td>\n",
       "    </tr>\n",
       "    <tr>\n",
       "      <th>403</th>\n",
       "      <td>8.3</td>\n",
       "    </tr>\n",
       "    <tr>\n",
       "      <th>78</th>\n",
       "      <td>21.2</td>\n",
       "    </tr>\n",
       "  </tbody>\n",
       "</table>\n",
       "</div>"
      ],
      "text/plain": [
       "     _predict_\n",
       "329       22.6\n",
       "371       50.0\n",
       "219       23.0\n",
       "403        8.3\n",
       "78        21.2"
      ]
     },
     "execution_count": 52,
     "metadata": {},
     "output_type": "execute_result"
    }
   ],
   "source": [
    "y_pred.head()"
   ]
  },
  {
   "cell_type": "code",
   "execution_count": 53,
   "metadata": {},
   "outputs": [
    {
     "name": "stdout",
     "output_type": "stream",
     "text": [
      "(102, 1)\n",
      "(102, 13)\n"
     ]
    },
    {
     "data": {
      "text/plain": [
       "True"
      ]
     },
     "execution_count": 53,
     "metadata": {},
     "output_type": "execute_result"
    }
   ],
   "source": [
    "print(y_pred.shape)\n",
    "print(Xtest.shape)\n",
    "y_pred.index.equals(Xtest.index)"
   ]
  },
  {
   "cell_type": "code",
   "execution_count": 50,
   "metadata": {},
   "outputs": [
    {
     "name": "stdout",
     "output_type": "stream",
     "text": [
      "Backend: Shap TreeExplainer\n"
     ]
    }
   ],
   "source": [
    "xpl.compile(\n",
    "    x=Xtest,\n",
    "    model=regressor,\n",
    "#     preprocessing=encoder, # Optional: compile step can use inverse_transform method\n",
    "    y_pred=y_pred#, # Optional\n",
    "#     postprocessing=postprocess # Optional: see tutorial postprocessing\n",
    ")"
   ]
  },
  {
   "cell_type": "code",
   "execution_count": 51,
   "metadata": {},
   "outputs": [
    {
     "name": "stdout",
     "output_type": "stream",
     "text": [
      "Dash is running on http://0.0.0.0:8050/\n",
      "\n"
     ]
    },
    {
     "name": "stderr",
     "output_type": "stream",
     "text": [
      "INFO:root:Your Shapash application run on http://run-604279e4bf0598551928752b-6bz5l:8050/\n"
     ]
    },
    {
     "name": "stdout",
     "output_type": "stream",
     "text": [
      "Dash is running on http://0.0.0.0:8050/\n",
      "\n"
     ]
    },
    {
     "name": "stderr",
     "output_type": "stream",
     "text": [
      "INFO:root:Use the method .kill() to down your app.\n",
      "INFO:shapash.webapp.smart_app:Dash is running on http://0.0.0.0:8050/\n",
      "\n"
     ]
    },
    {
     "name": "stdout",
     "output_type": "stream",
     "text": [
      " * Serving Flask app \"shapash.webapp.smart_app\" (lazy loading)\n",
      " * Environment: production\n",
      "\u001b[31m   WARNING: This is a development server. Do not use it in a production deployment.\u001b[0m\n",
      "\u001b[2m   Use a production WSGI server instead.\u001b[0m\n",
      " * Debug mode: off\n"
     ]
    },
    {
     "name": "stderr",
     "output_type": "stream",
     "text": [
      "INFO:werkzeug: * Running on http://0.0.0.0:8050/ (Press CTRL+C to quit)\n"
     ]
    }
   ],
   "source": [
    "app = xpl.run_app()"
   ]
  }
 ],
 "metadata": {
  "kernelspec": {
   "display_name": "Python 3",
   "language": "python",
   "name": "python3"
  },
  "language_info": {
   "codemirror_mode": {
    "name": "ipython",
    "version": 3
   },
   "file_extension": ".py",
   "mimetype": "text/x-python",
   "name": "python",
   "nbconvert_exporter": "python",
   "pygments_lexer": "ipython3",
   "version": "3.7.4"
  },
  "nikola": {
   "date": "2017-09-09 21:09:01 UTC+10:00",
   "slug": "test-slug",
   "title": "Using SHAP and LIME python libraries to Explain Black Box Models"
  }
 },
 "nbformat": 4,
 "nbformat_minor": 4
}
