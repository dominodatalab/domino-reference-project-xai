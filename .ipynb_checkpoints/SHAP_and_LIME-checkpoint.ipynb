{
 "cells": [
  {
   "cell_type": "markdown",
   "metadata": {},
   "source": [
    "## Load Libraries"
   ]
  },
  {
   "cell_type": "code",
   "execution_count": 1,
   "metadata": {},
   "outputs": [],
   "source": [
    "#util\n",
    "import time  #some of the routines take a while, so we monitor the time\n",
    "import os  #needed to use Environment Variables in Domino"
   ]
  },
  {
   "cell_type": "code",
   "execution_count": 2,
   "metadata": {},
   "outputs": [],
   "source": [
    "#math\n",
    "import pandas as pd  #for manipulating data\n",
    "import numpy as np  #for manipulating data"
   ]
  },
  {
   "cell_type": "code",
   "execution_count": 3,
   "metadata": {},
   "outputs": [],
   "source": [
    "#modeling\n",
    "import sklearn  #for building models\n",
    "import xgboost as xgb  #for building models\n",
    "import sklearn.ensemble  #for building models\n",
    "from sklearn.model_selection import train_test_split  #for creating a hold-out sample"
   ]
  },
  {
   "cell_type": "code",
   "execution_count": 4,
   "metadata": {},
   "outputs": [],
   "source": [
    "#explainability\n",
    "import lime  #LIME package\n",
    "from lime import lime_tabular  #the type of LIME analysis we’ll do\n",
    "import shap  #SHAP package"
   ]
  },
  {
   "cell_type": "code",
   "execution_count": 5,
   "metadata": {},
   "outputs": [],
   "source": [
    "#viz\n",
    "import matplotlib.pyplot as plt  #for custom graphs at the end\n",
    "import seaborn as sns  #for custom graphs at the end"
   ]
  },
  {
   "cell_type": "code",
   "execution_count": 6,
   "metadata": {},
   "outputs": [
    {
     "name": "stdout",
     "output_type": "stream",
     "text": [
      "0.28.5\n",
      "0.82\n",
      "0.20.3\n"
     ]
    }
   ],
   "source": [
    "print(shap.__version__)\n",
    "print(xgb.__version__)\n",
    "print(sklearn.__version__)"
   ]
  },
  {
   "cell_type": "code",
   "execution_count": 7,
   "metadata": {},
   "outputs": [
    {
     "name": "stdout",
     "output_type": "stream",
     "text": [
      "Version: 0.1.1.34\n",
      "Note: you may need to restart the kernel to use updated packages.\n"
     ]
    }
   ],
   "source": [
    "pip show lime | grep Version"
   ]
  },
  {
   "cell_type": "markdown",
   "metadata": {},
   "source": [
    "## Load and Explore Boston Housing Data\n",
    "\n",
    "We are trying to predict median value of owner-occupied homes in $1000s. The data comes from sklearn, so we can get more details about the columns from there."
   ]
  },
  {
   "cell_type": "code",
   "execution_count": 8,
   "metadata": {},
   "outputs": [],
   "source": [
    "X,y = shap.datasets.boston()\n",
    "X_train,X_test,y_train,y_test = train_test_split(X, y, test_size=0.2, random_state=0)"
   ]
  },
  {
   "cell_type": "code",
   "execution_count": 9,
   "metadata": {},
   "outputs": [
    {
     "data": {
      "text/html": [
       "<div>\n",
       "<style scoped>\n",
       "    .dataframe tbody tr th:only-of-type {\n",
       "        vertical-align: middle;\n",
       "    }\n",
       "\n",
       "    .dataframe tbody tr th {\n",
       "        vertical-align: top;\n",
       "    }\n",
       "\n",
       "    .dataframe thead th {\n",
       "        text-align: right;\n",
       "    }\n",
       "</style>\n",
       "<table border=\"1\" class=\"dataframe\">\n",
       "  <thead>\n",
       "    <tr style=\"text-align: right;\">\n",
       "      <th></th>\n",
       "      <th>CRIM</th>\n",
       "      <th>ZN</th>\n",
       "      <th>INDUS</th>\n",
       "      <th>CHAS</th>\n",
       "      <th>NOX</th>\n",
       "      <th>RM</th>\n",
       "      <th>AGE</th>\n",
       "      <th>DIS</th>\n",
       "      <th>RAD</th>\n",
       "      <th>TAX</th>\n",
       "      <th>PTRATIO</th>\n",
       "      <th>B</th>\n",
       "      <th>LSTAT</th>\n",
       "    </tr>\n",
       "  </thead>\n",
       "  <tbody>\n",
       "    <tr>\n",
       "      <th>0</th>\n",
       "      <td>0.00632</td>\n",
       "      <td>18.0</td>\n",
       "      <td>2.31</td>\n",
       "      <td>0.0</td>\n",
       "      <td>0.538</td>\n",
       "      <td>6.575</td>\n",
       "      <td>65.2</td>\n",
       "      <td>4.0900</td>\n",
       "      <td>1.0</td>\n",
       "      <td>296.0</td>\n",
       "      <td>15.3</td>\n",
       "      <td>396.90</td>\n",
       "      <td>4.98</td>\n",
       "    </tr>\n",
       "    <tr>\n",
       "      <th>1</th>\n",
       "      <td>0.02731</td>\n",
       "      <td>0.0</td>\n",
       "      <td>7.07</td>\n",
       "      <td>0.0</td>\n",
       "      <td>0.469</td>\n",
       "      <td>6.421</td>\n",
       "      <td>78.9</td>\n",
       "      <td>4.9671</td>\n",
       "      <td>2.0</td>\n",
       "      <td>242.0</td>\n",
       "      <td>17.8</td>\n",
       "      <td>396.90</td>\n",
       "      <td>9.14</td>\n",
       "    </tr>\n",
       "    <tr>\n",
       "      <th>2</th>\n",
       "      <td>0.02729</td>\n",
       "      <td>0.0</td>\n",
       "      <td>7.07</td>\n",
       "      <td>0.0</td>\n",
       "      <td>0.469</td>\n",
       "      <td>7.185</td>\n",
       "      <td>61.1</td>\n",
       "      <td>4.9671</td>\n",
       "      <td>2.0</td>\n",
       "      <td>242.0</td>\n",
       "      <td>17.8</td>\n",
       "      <td>392.83</td>\n",
       "      <td>4.03</td>\n",
       "    </tr>\n",
       "    <tr>\n",
       "      <th>3</th>\n",
       "      <td>0.03237</td>\n",
       "      <td>0.0</td>\n",
       "      <td>2.18</td>\n",
       "      <td>0.0</td>\n",
       "      <td>0.458</td>\n",
       "      <td>6.998</td>\n",
       "      <td>45.8</td>\n",
       "      <td>6.0622</td>\n",
       "      <td>3.0</td>\n",
       "      <td>222.0</td>\n",
       "      <td>18.7</td>\n",
       "      <td>394.63</td>\n",
       "      <td>2.94</td>\n",
       "    </tr>\n",
       "    <tr>\n",
       "      <th>4</th>\n",
       "      <td>0.06905</td>\n",
       "      <td>0.0</td>\n",
       "      <td>2.18</td>\n",
       "      <td>0.0</td>\n",
       "      <td>0.458</td>\n",
       "      <td>7.147</td>\n",
       "      <td>54.2</td>\n",
       "      <td>6.0622</td>\n",
       "      <td>3.0</td>\n",
       "      <td>222.0</td>\n",
       "      <td>18.7</td>\n",
       "      <td>396.90</td>\n",
       "      <td>5.33</td>\n",
       "    </tr>\n",
       "  </tbody>\n",
       "</table>\n",
       "</div>"
      ],
      "text/plain": [
       "      CRIM    ZN  INDUS  CHAS    NOX     RM   AGE     DIS  RAD    TAX  \\\n",
       "0  0.00632  18.0   2.31   0.0  0.538  6.575  65.2  4.0900  1.0  296.0   \n",
       "1  0.02731   0.0   7.07   0.0  0.469  6.421  78.9  4.9671  2.0  242.0   \n",
       "2  0.02729   0.0   7.07   0.0  0.469  7.185  61.1  4.9671  2.0  242.0   \n",
       "3  0.03237   0.0   2.18   0.0  0.458  6.998  45.8  6.0622  3.0  222.0   \n",
       "4  0.06905   0.0   2.18   0.0  0.458  7.147  54.2  6.0622  3.0  222.0   \n",
       "\n",
       "   PTRATIO       B  LSTAT  \n",
       "0     15.3  396.90   4.98  \n",
       "1     17.8  396.90   9.14  \n",
       "2     17.8  392.83   4.03  \n",
       "3     18.7  394.63   2.94  \n",
       "4     18.7  396.90   5.33  "
      ]
     },
     "execution_count": 9,
     "metadata": {},
     "output_type": "execute_result"
    }
   ],
   "source": [
    "X.head()"
   ]
  },
  {
   "cell_type": "code",
   "execution_count": 10,
   "metadata": {},
   "outputs": [
    {
     "data": {
      "text/plain": [
       "0    24.0\n",
       "1    21.6\n",
       "2    34.7\n",
       "3    33.4\n",
       "4    36.2\n",
       "dtype: float64"
      ]
     },
     "execution_count": 10,
     "metadata": {},
     "output_type": "execute_result"
    }
   ],
   "source": [
    "pd.Series(y).head()"
   ]
  },
  {
   "cell_type": "code",
   "execution_count": 11,
   "metadata": {},
   "outputs": [
    {
     "name": "stdout",
     "output_type": "stream",
     "text": [
      ".. _boston_dataset:\n",
      "\n",
      "Boston house prices dataset\n",
      "---------------------------\n",
      "\n",
      "**Data Set Characteristics:**  \n",
      "\n",
      "    :Number of Instances: 506 \n",
      "\n",
      "    :Number of Attributes: 13 numeric/categorical predictive. Median Value (attribute 14) is usually the target.\n",
      "\n",
      "    :Attribute Information (in order):\n",
      "        - CRIM     per capita crime rate by town\n",
      "        - ZN       proportion of residential land zoned for lots over 25,000 sq.ft.\n",
      "        - INDUS    proportion of non-retail business acres per town\n",
      "        - CHAS     Charles River dummy variable (= 1 if tract bounds river; 0 otherwise)\n",
      "        - NOX      nitric oxides concentration (parts per 10 million)\n",
      "        - RM       average number of rooms per dwelling\n",
      "        - AGE      proportion of owner-occupied units built prior to 1940\n",
      "        - DIS      weighted distances to five Boston employment centres\n",
      "        - RAD      index of accessibility to radial highways\n",
      "        - TAX      full-value property-tax rate per $10,000\n",
      "        - PTRATIO  pupil-teacher ratio by town\n",
      "        - B        1000(Bk - 0.63)^2 where Bk is the proportion of blacks by town\n",
      "        - LSTAT    % lower status of the population\n",
      "        - MEDV     Median value of owner-occupied homes in $1000's\n",
      "\n",
      "    :Missing Attribute Values: None\n",
      "\n",
      "    :Creator: Harrison, D. and Rubinfeld, D.L.\n",
      "\n",
      "This is a copy of UCI ML housing dataset.\n",
      "https://archive.ics.uci.edu/ml/machine-learning-databases/housing/\n",
      "\n",
      "\n",
      "This dataset was taken from the StatLib library which is maintained at Carnegie Mellon University.\n",
      "\n",
      "The Boston house-price data of Harrison, D. and Rubinfeld, D.L. 'Hedonic\n",
      "prices and the demand for clean air', J. Environ. Economics & Management,\n",
      "vol.5, 81-102, 1978.   Used in Belsley, Kuh & Welsch, 'Regression diagnostics\n",
      "...', Wiley, 1980.   N.B. Various transformations are used in the table on\n",
      "pages 244-261 of the latter.\n",
      "\n",
      "The Boston house-price data has been used in many machine learning papers that address regression\n",
      "problems.   \n",
      "     \n",
      ".. topic:: References\n",
      "\n",
      "   - Belsley, Kuh & Welsch, 'Regression diagnostics: Identifying Influential Data and Sources of Collinearity', Wiley, 1980. 244-261.\n",
      "   - Quinlan,R. (1993). Combining Instance-Based and Model-Based Learning. In Proceedings on the Tenth International Conference of Machine Learning, 236-243, University of Massachusetts, Amherst. Morgan Kaufmann.\n",
      "\n"
     ]
    }
   ],
   "source": [
    "print(sklearn.datasets.load_boston().DESCR)"
   ]
  },
  {
   "cell_type": "markdown",
   "metadata": {},
   "source": [
    "## Build the models"
   ]
  },
  {
   "cell_type": "markdown",
   "metadata": {},
   "source": [
    "XGBoost"
   ]
  },
  {
   "cell_type": "code",
   "execution_count": null,
   "metadata": {},
   "outputs": [],
   "source": [
    "xgb_model = xgb.train({'objective':'reg:linear'}, xgb.DMatrix(X_train, label=y_train))"
   ]
  },
  {
   "cell_type": "markdown",
   "metadata": {},
   "source": [
    "GBT from scikit-learn"
   ]
  },
  {
   "cell_type": "code",
   "execution_count": null,
   "metadata": {},
   "outputs": [
    {
     "data": {
      "text/plain": [
       "GradientBoostingRegressor(alpha=0.9, criterion='friedman_mse', init=None,\n",
       "             learning_rate=0.1, loss='ls', max_depth=3, max_features=None,\n",
       "             max_leaf_nodes=None, min_impurity_decrease=0.0,\n",
       "             min_impurity_split=None, min_samples_leaf=1,\n",
       "             min_samples_split=2, min_weight_fraction_leaf=0.0,\n",
       "             n_estimators=100, n_iter_no_change=None, presort='auto',\n",
       "             random_state=None, subsample=1.0, tol=0.0001,\n",
       "             validation_fraction=0.1, verbose=0, warm_start=False)"
      ]
     },
     "execution_count": 13,
     "metadata": {},
     "output_type": "execute_result"
    }
   ],
   "source": [
    "sk_xgb = sklearn.ensemble.GradientBoostingRegressor()\n",
    "sk_xgb.fit(X_train, y_train)"
   ]
  },
  {
   "cell_type": "markdown",
   "metadata": {},
   "source": [
    "Random Forest"
   ]
  },
  {
   "cell_type": "code",
   "execution_count": null,
   "metadata": {},
   "outputs": [
    {
     "name": "stderr",
     "output_type": "stream",
     "text": [
      "/usr/local/anaconda/lib/python3.6/site-packages/sklearn/ensemble/forest.py:246: FutureWarning: The default value of n_estimators will change from 10 in version 0.20 to 100 in 0.22.\n",
      "  \"10 in version 0.20 to 100 in 0.22.\", FutureWarning)\n"
     ]
    },
    {
     "data": {
      "text/plain": [
       "RandomForestRegressor(bootstrap=True, criterion='mse', max_depth=None,\n",
       "           max_features='auto', max_leaf_nodes=None,\n",
       "           min_impurity_decrease=0.0, min_impurity_split=None,\n",
       "           min_samples_leaf=1, min_samples_split=2,\n",
       "           min_weight_fraction_leaf=0.0, n_estimators=10, n_jobs=None,\n",
       "           oob_score=False, random_state=None, verbose=0, warm_start=False)"
      ]
     },
     "execution_count": 14,
     "metadata": {},
     "output_type": "execute_result"
    }
   ],
   "source": [
    "rf = sklearn.ensemble.RandomForestRegressor()\n",
    "rf.fit(X_train, y_train)"
   ]
  },
  {
   "cell_type": "markdown",
   "metadata": {},
   "source": [
    "K Nearest Neighbor"
   ]
  },
  {
   "cell_type": "code",
   "execution_count": null,
   "metadata": {},
   "outputs": [
    {
     "data": {
      "text/plain": [
       "KNeighborsRegressor(algorithm='auto', leaf_size=30, metric='minkowski',\n",
       "          metric_params=None, n_jobs=None, n_neighbors=5, p=2,\n",
       "          weights='uniform')"
      ]
     },
     "execution_count": 15,
     "metadata": {},
     "output_type": "execute_result"
    }
   ],
   "source": [
    "knn = sklearn.neighbors.KNeighborsRegressor()\n",
    "knn.fit(X_train, y_train)"
   ]
  },
  {
   "cell_type": "markdown",
   "metadata": {},
   "source": [
    "## Create the SHAP Explainers"
   ]
  },
  {
   "cell_type": "markdown",
   "metadata": {},
   "source": [
    "SHAP has the following explainers: deep, gradient, kernel, linear, tree, sampling"
   ]
  },
  {
   "cell_type": "markdown",
   "metadata": {},
   "source": [
    "Tree on XGBoost"
   ]
  },
  {
   "cell_type": "code",
   "execution_count": null,
   "metadata": {},
   "outputs": [],
   "source": [
    "explainerXGB = shap.TreeExplainer(xgb_model)\n",
    "shap_values_XGB_test = explainerXGB.shap_values(X_test)\n",
    "shap_values_XGB_train = explainerXGB.shap_values(X_train)"
   ]
  },
  {
   "cell_type": "markdown",
   "metadata": {},
   "source": [
    "Tree on Scikit GBT"
   ]
  },
  {
   "cell_type": "code",
   "execution_count": null,
   "metadata": {},
   "outputs": [],
   "source": [
    "explainerSKGBT = shap.TreeExplainer(sk_xgb)\n",
    "shap_values_SKGBT_test = explainerSKGBT.shap_values(X_test)\n",
    "shap_values_SKGBT_train = explainerSKGBT.shap_values(X_train)"
   ]
  },
  {
   "cell_type": "markdown",
   "metadata": {},
   "source": [
    "Tree on Random Forest"
   ]
  },
  {
   "cell_type": "code",
   "execution_count": null,
   "metadata": {},
   "outputs": [],
   "source": [
    "explainerRF = shap.TreeExplainer(rf)\n",
    "shap_values_RF_test = explainerRF.shap_values(X_test)\n",
    "shap_values_RF_train = explainerRF.shap_values(X_train)"
   ]
  },
  {
   "cell_type": "markdown",
   "metadata": {},
   "source": [
    "Must use Kernel method on KNN\n",
    "\n",
    "Summarizing the data with k-Means is a way to speed up the processing"
   ]
  },
  {
   "cell_type": "code",
   "execution_count": null,
   "metadata": {},
   "outputs": [],
   "source": [
    "\"\"\"\n",
    "Rather than use the whole training set to estimate expected values, we summarize with\n",
    "a set of weighted kmeans, each weighted by the number of points they represent.\n",
    "Running without the kmeans took 1 hr 6 mins 7 sec. \n",
    "Running with the kmeans took 2 min 47 sec.\n",
    "Boston Housing is a very small dataset.\n",
    "Running SHAP on models that require Kernel method and have a good amount of data becomes prohibitive. \n",
    "\"\"\"\n",
    "X_train_summary = shap.kmeans(X_train, 10)"
   ]
  },
  {
   "cell_type": "code",
   "execution_count": null,
   "metadata": {},
   "outputs": [
    {
     "name": "stderr",
     "output_type": "stream",
     "text": [
      "  0%|          | 0/102 [00:00<?, ?it/s]/usr/local/anaconda/lib/python3.6/site-packages/shap/explainers/kernel.py:535: UserWarning: l1_reg=\"auto\" is deprecated and in the next version (v0.29) the behavior will change from a conditional use of AIC to simply \"num_features(10)\"!\n",
      "  \"l1_reg=\\\"auto\\\" is deprecated and in the next version (v0.29) the behavior will change from a \" \\\n",
      "  1%|          | 1/102 [00:00<00:26,  3.80it/s]/usr/local/anaconda/lib/python3.6/site-packages/shap/explainers/kernel.py:535: UserWarning: l1_reg=\"auto\" is deprecated and in the next version (v0.29) the behavior will change from a conditional use of AIC to simply \"num_features(10)\"!\n",
      "  \"l1_reg=\\\"auto\\\" is deprecated and in the next version (v0.29) the behavior will change from a \" \\\n",
      "  2%|▏         | 2/102 [00:00<00:31,  3.20it/s]/usr/local/anaconda/lib/python3.6/site-packages/shap/explainers/kernel.py:535: UserWarning: l1_reg=\"auto\" is deprecated and in the next version (v0.29) the behavior will change from a conditional use of AIC to simply \"num_features(10)\"!\n",
      "  \"l1_reg=\\\"auto\\\" is deprecated and in the next version (v0.29) the behavior will change from a \" \\\n",
      "  3%|▎         | 3/102 [00:01<00:33,  2.93it/s]/usr/local/anaconda/lib/python3.6/site-packages/shap/explainers/kernel.py:535: UserWarning: l1_reg=\"auto\" is deprecated and in the next version (v0.29) the behavior will change from a conditional use of AIC to simply \"num_features(10)\"!\n",
      "  \"l1_reg=\\\"auto\\\" is deprecated and in the next version (v0.29) the behavior will change from a \" \\\n",
      "  4%|▍         | 4/102 [00:01<00:35,  2.78it/s]/usr/local/anaconda/lib/python3.6/site-packages/shap/explainers/kernel.py:535: UserWarning: l1_reg=\"auto\" is deprecated and in the next version (v0.29) the behavior will change from a conditional use of AIC to simply \"num_features(10)\"!\n",
      "  \"l1_reg=\\\"auto\\\" is deprecated and in the next version (v0.29) the behavior will change from a \" \\\n",
      "  5%|▍         | 5/102 [00:01<00:36,  2.68it/s]/usr/local/anaconda/lib/python3.6/site-packages/shap/explainers/kernel.py:535: UserWarning: l1_reg=\"auto\" is deprecated and in the next version (v0.29) the behavior will change from a conditional use of AIC to simply \"num_features(10)\"!\n",
      "  \"l1_reg=\\\"auto\\\" is deprecated and in the next version (v0.29) the behavior will change from a \" \\\n",
      "  6%|▌         | 6/102 [00:02<00:36,  2.62it/s]/usr/local/anaconda/lib/python3.6/site-packages/shap/explainers/kernel.py:535: UserWarning: l1_reg=\"auto\" is deprecated and in the next version (v0.29) the behavior will change from a conditional use of AIC to simply \"num_features(10)\"!\n",
      "  \"l1_reg=\\\"auto\\\" is deprecated and in the next version (v0.29) the behavior will change from a \" \\\n",
      "  7%|▋         | 7/102 [00:02<00:36,  2.59it/s]/usr/local/anaconda/lib/python3.6/site-packages/shap/explainers/kernel.py:535: UserWarning: l1_reg=\"auto\" is deprecated and in the next version (v0.29) the behavior will change from a conditional use of AIC to simply \"num_features(10)\"!\n",
      "  \"l1_reg=\\\"auto\\\" is deprecated and in the next version (v0.29) the behavior will change from a \" \\\n",
      "  8%|▊         | 8/102 [00:03<00:36,  2.56it/s]/usr/local/anaconda/lib/python3.6/site-packages/shap/explainers/kernel.py:535: UserWarning: l1_reg=\"auto\" is deprecated and in the next version (v0.29) the behavior will change from a conditional use of AIC to simply \"num_features(10)\"!\n",
      "  \"l1_reg=\\\"auto\\\" is deprecated and in the next version (v0.29) the behavior will change from a \" \\\n",
      "  9%|▉         | 9/102 [00:03<00:36,  2.53it/s]/usr/local/anaconda/lib/python3.6/site-packages/shap/explainers/kernel.py:535: UserWarning: l1_reg=\"auto\" is deprecated and in the next version (v0.29) the behavior will change from a conditional use of AIC to simply \"num_features(10)\"!\n",
      "  \"l1_reg=\\\"auto\\\" is deprecated and in the next version (v0.29) the behavior will change from a \" \\\n",
      " 10%|▉         | 10/102 [00:03<00:36,  2.55it/s]/usr/local/anaconda/lib/python3.6/site-packages/shap/explainers/kernel.py:535: UserWarning: l1_reg=\"auto\" is deprecated and in the next version (v0.29) the behavior will change from a conditional use of AIC to simply \"num_features(10)\"!\n",
      "  \"l1_reg=\\\"auto\\\" is deprecated and in the next version (v0.29) the behavior will change from a \" \\\n",
      " 11%|█         | 11/102 [00:04<00:35,  2.54it/s]/usr/local/anaconda/lib/python3.6/site-packages/shap/explainers/kernel.py:535: UserWarning: l1_reg=\"auto\" is deprecated and in the next version (v0.29) the behavior will change from a conditional use of AIC to simply \"num_features(10)\"!\n",
      "  \"l1_reg=\\\"auto\\\" is deprecated and in the next version (v0.29) the behavior will change from a \" \\\n",
      " 12%|█▏        | 12/102 [00:04<00:35,  2.53it/s]/usr/local/anaconda/lib/python3.6/site-packages/shap/explainers/kernel.py:535: UserWarning: l1_reg=\"auto\" is deprecated and in the next version (v0.29) the behavior will change from a conditional use of AIC to simply \"num_features(10)\"!\n",
      "  \"l1_reg=\\\"auto\\\" is deprecated and in the next version (v0.29) the behavior will change from a \" \\\n",
      " 13%|█▎        | 13/102 [00:05<00:35,  2.50it/s]/usr/local/anaconda/lib/python3.6/site-packages/shap/explainers/kernel.py:535: UserWarning: l1_reg=\"auto\" is deprecated and in the next version (v0.29) the behavior will change from a conditional use of AIC to simply \"num_features(10)\"!\n",
      "  \"l1_reg=\\\"auto\\\" is deprecated and in the next version (v0.29) the behavior will change from a \" \\\n",
      " 14%|█▎        | 14/102 [00:05<00:36,  2.43it/s]/usr/local/anaconda/lib/python3.6/site-packages/shap/explainers/kernel.py:535: UserWarning: l1_reg=\"auto\" is deprecated and in the next version (v0.29) the behavior will change from a conditional use of AIC to simply \"num_features(10)\"!\n",
      "  \"l1_reg=\\\"auto\\\" is deprecated and in the next version (v0.29) the behavior will change from a \" \\\n",
      " 15%|█▍        | 15/102 [00:05<00:35,  2.47it/s]/usr/local/anaconda/lib/python3.6/site-packages/shap/explainers/kernel.py:535: UserWarning: l1_reg=\"auto\" is deprecated and in the next version (v0.29) the behavior will change from a conditional use of AIC to simply \"num_features(10)\"!\n",
      "  \"l1_reg=\\\"auto\\\" is deprecated and in the next version (v0.29) the behavior will change from a \" \\\n",
      " 16%|█▌        | 16/102 [00:06<00:34,  2.50it/s]/usr/local/anaconda/lib/python3.6/site-packages/shap/explainers/kernel.py:535: UserWarning: l1_reg=\"auto\" is deprecated and in the next version (v0.29) the behavior will change from a conditional use of AIC to simply \"num_features(10)\"!\n",
      "  \"l1_reg=\\\"auto\\\" is deprecated and in the next version (v0.29) the behavior will change from a \" \\\n",
      " 17%|█▋        | 17/102 [00:06<00:33,  2.54it/s]/usr/local/anaconda/lib/python3.6/site-packages/shap/explainers/kernel.py:535: UserWarning: l1_reg=\"auto\" is deprecated and in the next version (v0.29) the behavior will change from a conditional use of AIC to simply \"num_features(10)\"!\n",
      "  \"l1_reg=\\\"auto\\\" is deprecated and in the next version (v0.29) the behavior will change from a \" \\\n",
      " 18%|█▊        | 18/102 [00:07<00:33,  2.48it/s]/usr/local/anaconda/lib/python3.6/site-packages/shap/explainers/kernel.py:535: UserWarning: l1_reg=\"auto\" is deprecated and in the next version (v0.29) the behavior will change from a conditional use of AIC to simply \"num_features(10)\"!\n",
      "  \"l1_reg=\\\"auto\\\" is deprecated and in the next version (v0.29) the behavior will change from a \" \\\n",
      " 19%|█▊        | 19/102 [00:07<00:32,  2.52it/s]/usr/local/anaconda/lib/python3.6/site-packages/shap/explainers/kernel.py:535: UserWarning: l1_reg=\"auto\" is deprecated and in the next version (v0.29) the behavior will change from a conditional use of AIC to simply \"num_features(10)\"!\n",
      "  \"l1_reg=\\\"auto\\\" is deprecated and in the next version (v0.29) the behavior will change from a \" \\\n",
      " 20%|█▉        | 20/102 [00:07<00:34,  2.39it/s]/usr/local/anaconda/lib/python3.6/site-packages/shap/explainers/kernel.py:535: UserWarning: l1_reg=\"auto\" is deprecated and in the next version (v0.29) the behavior will change from a conditional use of AIC to simply \"num_features(10)\"!\n",
      "  \"l1_reg=\\\"auto\\\" is deprecated and in the next version (v0.29) the behavior will change from a \" \\\n",
      " 21%|██        | 21/102 [00:08<00:34,  2.38it/s]/usr/local/anaconda/lib/python3.6/site-packages/shap/explainers/kernel.py:535: UserWarning: l1_reg=\"auto\" is deprecated and in the next version (v0.29) the behavior will change from a conditional use of AIC to simply \"num_features(10)\"!\n",
      "  \"l1_reg=\\\"auto\\\" is deprecated and in the next version (v0.29) the behavior will change from a \" \\\n"
     ]
    },
    {
     "name": "stderr",
     "output_type": "stream",
     "text": [
      " 22%|██▏       | 22/102 [00:08<00:33,  2.40it/s]/usr/local/anaconda/lib/python3.6/site-packages/shap/explainers/kernel.py:535: UserWarning: l1_reg=\"auto\" is deprecated and in the next version (v0.29) the behavior will change from a conditional use of AIC to simply \"num_features(10)\"!\n",
      "  \"l1_reg=\\\"auto\\\" is deprecated and in the next version (v0.29) the behavior will change from a \" \\\n",
      " 23%|██▎       | 23/102 [00:09<00:32,  2.44it/s]/usr/local/anaconda/lib/python3.6/site-packages/shap/explainers/kernel.py:535: UserWarning: l1_reg=\"auto\" is deprecated and in the next version (v0.29) the behavior will change from a conditional use of AIC to simply \"num_features(10)\"!\n",
      "  \"l1_reg=\\\"auto\\\" is deprecated and in the next version (v0.29) the behavior will change from a \" \\\n",
      " 24%|██▎       | 24/102 [00:09<00:31,  2.45it/s]/usr/local/anaconda/lib/python3.6/site-packages/shap/explainers/kernel.py:535: UserWarning: l1_reg=\"auto\" is deprecated and in the next version (v0.29) the behavior will change from a conditional use of AIC to simply \"num_features(10)\"!\n",
      "  \"l1_reg=\\\"auto\\\" is deprecated and in the next version (v0.29) the behavior will change from a \" \\\n",
      " 25%|██▍       | 25/102 [00:10<00:31,  2.47it/s]/usr/local/anaconda/lib/python3.6/site-packages/shap/explainers/kernel.py:535: UserWarning: l1_reg=\"auto\" is deprecated and in the next version (v0.29) the behavior will change from a conditional use of AIC to simply \"num_features(10)\"!\n",
      "  \"l1_reg=\\\"auto\\\" is deprecated and in the next version (v0.29) the behavior will change from a \" \\\n",
      " 25%|██▌       | 26/102 [00:10<00:30,  2.51it/s]/usr/local/anaconda/lib/python3.6/site-packages/shap/explainers/kernel.py:535: UserWarning: l1_reg=\"auto\" is deprecated and in the next version (v0.29) the behavior will change from a conditional use of AIC to simply \"num_features(10)\"!\n",
      "  \"l1_reg=\\\"auto\\\" is deprecated and in the next version (v0.29) the behavior will change from a \" \\\n",
      " 26%|██▋       | 27/102 [00:10<00:30,  2.47it/s]/usr/local/anaconda/lib/python3.6/site-packages/shap/explainers/kernel.py:535: UserWarning: l1_reg=\"auto\" is deprecated and in the next version (v0.29) the behavior will change from a conditional use of AIC to simply \"num_features(10)\"!\n",
      "  \"l1_reg=\\\"auto\\\" is deprecated and in the next version (v0.29) the behavior will change from a \" \\\n",
      " 27%|██▋       | 28/102 [00:11<00:29,  2.52it/s]/usr/local/anaconda/lib/python3.6/site-packages/shap/explainers/kernel.py:535: UserWarning: l1_reg=\"auto\" is deprecated and in the next version (v0.29) the behavior will change from a conditional use of AIC to simply \"num_features(10)\"!\n",
      "  \"l1_reg=\\\"auto\\\" is deprecated and in the next version (v0.29) the behavior will change from a \" \\\n",
      " 28%|██▊       | 29/102 [00:11<00:29,  2.47it/s]/usr/local/anaconda/lib/python3.6/site-packages/shap/explainers/kernel.py:535: UserWarning: l1_reg=\"auto\" is deprecated and in the next version (v0.29) the behavior will change from a conditional use of AIC to simply \"num_features(10)\"!\n",
      "  \"l1_reg=\\\"auto\\\" is deprecated and in the next version (v0.29) the behavior will change from a \" \\\n",
      " 29%|██▉       | 30/102 [00:12<00:29,  2.47it/s]/usr/local/anaconda/lib/python3.6/site-packages/shap/explainers/kernel.py:535: UserWarning: l1_reg=\"auto\" is deprecated and in the next version (v0.29) the behavior will change from a conditional use of AIC to simply \"num_features(10)\"!\n",
      "  \"l1_reg=\\\"auto\\\" is deprecated and in the next version (v0.29) the behavior will change from a \" \\\n",
      " 30%|███       | 31/102 [00:12<00:28,  2.49it/s]/usr/local/anaconda/lib/python3.6/site-packages/shap/explainers/kernel.py:535: UserWarning: l1_reg=\"auto\" is deprecated and in the next version (v0.29) the behavior will change from a conditional use of AIC to simply \"num_features(10)\"!\n",
      "  \"l1_reg=\\\"auto\\\" is deprecated and in the next version (v0.29) the behavior will change from a \" \\\n",
      " 31%|███▏      | 32/102 [00:12<00:27,  2.51it/s]/usr/local/anaconda/lib/python3.6/site-packages/shap/explainers/kernel.py:535: UserWarning: l1_reg=\"auto\" is deprecated and in the next version (v0.29) the behavior will change from a conditional use of AIC to simply \"num_features(10)\"!\n",
      "  \"l1_reg=\\\"auto\\\" is deprecated and in the next version (v0.29) the behavior will change from a \" \\\n",
      " 32%|███▏      | 33/102 [00:13<00:28,  2.45it/s]/usr/local/anaconda/lib/python3.6/site-packages/shap/explainers/kernel.py:535: UserWarning: l1_reg=\"auto\" is deprecated and in the next version (v0.29) the behavior will change from a conditional use of AIC to simply \"num_features(10)\"!\n",
      "  \"l1_reg=\\\"auto\\\" is deprecated and in the next version (v0.29) the behavior will change from a \" \\\n",
      " 33%|███▎      | 34/102 [00:13<00:27,  2.49it/s]/usr/local/anaconda/lib/python3.6/site-packages/shap/explainers/kernel.py:535: UserWarning: l1_reg=\"auto\" is deprecated and in the next version (v0.29) the behavior will change from a conditional use of AIC to simply \"num_features(10)\"!\n",
      "  \"l1_reg=\\\"auto\\\" is deprecated and in the next version (v0.29) the behavior will change from a \" \\\n",
      " 34%|███▍      | 35/102 [00:13<00:26,  2.52it/s]/usr/local/anaconda/lib/python3.6/site-packages/shap/explainers/kernel.py:535: UserWarning: l1_reg=\"auto\" is deprecated and in the next version (v0.29) the behavior will change from a conditional use of AIC to simply \"num_features(10)\"!\n",
      "  \"l1_reg=\\\"auto\\\" is deprecated and in the next version (v0.29) the behavior will change from a \" \\\n",
      " 35%|███▌      | 36/102 [00:14<00:25,  2.59it/s]/usr/local/anaconda/lib/python3.6/site-packages/shap/explainers/kernel.py:535: UserWarning: l1_reg=\"auto\" is deprecated and in the next version (v0.29) the behavior will change from a conditional use of AIC to simply \"num_features(10)\"!\n",
      "  \"l1_reg=\\\"auto\\\" is deprecated and in the next version (v0.29) the behavior will change from a \" \\\n",
      " 36%|███▋      | 37/102 [00:14<00:26,  2.49it/s]/usr/local/anaconda/lib/python3.6/site-packages/shap/explainers/kernel.py:535: UserWarning: l1_reg=\"auto\" is deprecated and in the next version (v0.29) the behavior will change from a conditional use of AIC to simply \"num_features(10)\"!\n",
      "  \"l1_reg=\\\"auto\\\" is deprecated and in the next version (v0.29) the behavior will change from a \" \\\n",
      " 37%|███▋      | 38/102 [00:15<00:25,  2.54it/s]/usr/local/anaconda/lib/python3.6/site-packages/shap/explainers/kernel.py:535: UserWarning: l1_reg=\"auto\" is deprecated and in the next version (v0.29) the behavior will change from a conditional use of AIC to simply \"num_features(10)\"!\n",
      "  \"l1_reg=\\\"auto\\\" is deprecated and in the next version (v0.29) the behavior will change from a \" \\\n",
      " 38%|███▊      | 39/102 [00:15<00:24,  2.52it/s]/usr/local/anaconda/lib/python3.6/site-packages/shap/explainers/kernel.py:535: UserWarning: l1_reg=\"auto\" is deprecated and in the next version (v0.29) the behavior will change from a conditional use of AIC to simply \"num_features(10)\"!\n",
      "  \"l1_reg=\\\"auto\\\" is deprecated and in the next version (v0.29) the behavior will change from a \" \\\n",
      " 39%|███▉      | 40/102 [00:15<00:24,  2.49it/s]/usr/local/anaconda/lib/python3.6/site-packages/shap/explainers/kernel.py:535: UserWarning: l1_reg=\"auto\" is deprecated and in the next version (v0.29) the behavior will change from a conditional use of AIC to simply \"num_features(10)\"!\n",
      "  \"l1_reg=\\\"auto\\\" is deprecated and in the next version (v0.29) the behavior will change from a \" \\\n",
      " 40%|████      | 41/102 [00:16<00:24,  2.48it/s]/usr/local/anaconda/lib/python3.6/site-packages/shap/explainers/kernel.py:535: UserWarning: l1_reg=\"auto\" is deprecated and in the next version (v0.29) the behavior will change from a conditional use of AIC to simply \"num_features(10)\"!\n",
      "  \"l1_reg=\\\"auto\\\" is deprecated and in the next version (v0.29) the behavior will change from a \" \\\n",
      " 41%|████      | 42/102 [00:16<00:24,  2.49it/s]/usr/local/anaconda/lib/python3.6/site-packages/shap/explainers/kernel.py:535: UserWarning: l1_reg=\"auto\" is deprecated and in the next version (v0.29) the behavior will change from a conditional use of AIC to simply \"num_features(10)\"!\n",
      "  \"l1_reg=\\\"auto\\\" is deprecated and in the next version (v0.29) the behavior will change from a \" \\\n",
      " 42%|████▏     | 43/102 [00:17<00:23,  2.48it/s]/usr/local/anaconda/lib/python3.6/site-packages/shap/explainers/kernel.py:535: UserWarning: l1_reg=\"auto\" is deprecated and in the next version (v0.29) the behavior will change from a conditional use of AIC to simply \"num_features(10)\"!\n",
      "  \"l1_reg=\\\"auto\\\" is deprecated and in the next version (v0.29) the behavior will change from a \" \\\n"
     ]
    },
    {
     "name": "stderr",
     "output_type": "stream",
     "text": [
      " 43%|████▎     | 44/102 [00:17<00:23,  2.51it/s]/usr/local/anaconda/lib/python3.6/site-packages/shap/explainers/kernel.py:535: UserWarning: l1_reg=\"auto\" is deprecated and in the next version (v0.29) the behavior will change from a conditional use of AIC to simply \"num_features(10)\"!\n",
      "  \"l1_reg=\\\"auto\\\" is deprecated and in the next version (v0.29) the behavior will change from a \" \\\n",
      " 44%|████▍     | 45/102 [00:17<00:22,  2.50it/s]/usr/local/anaconda/lib/python3.6/site-packages/shap/explainers/kernel.py:535: UserWarning: l1_reg=\"auto\" is deprecated and in the next version (v0.29) the behavior will change from a conditional use of AIC to simply \"num_features(10)\"!\n",
      "  \"l1_reg=\\\"auto\\\" is deprecated and in the next version (v0.29) the behavior will change from a \" \\\n",
      " 45%|████▌     | 46/102 [00:18<00:22,  2.47it/s]/usr/local/anaconda/lib/python3.6/site-packages/shap/explainers/kernel.py:535: UserWarning: l1_reg=\"auto\" is deprecated and in the next version (v0.29) the behavior will change from a conditional use of AIC to simply \"num_features(10)\"!\n",
      "  \"l1_reg=\\\"auto\\\" is deprecated and in the next version (v0.29) the behavior will change from a \" \\\n",
      " 46%|████▌     | 47/102 [00:18<00:22,  2.48it/s]/usr/local/anaconda/lib/python3.6/site-packages/shap/explainers/kernel.py:535: UserWarning: l1_reg=\"auto\" is deprecated and in the next version (v0.29) the behavior will change from a conditional use of AIC to simply \"num_features(10)\"!\n",
      "  \"l1_reg=\\\"auto\\\" is deprecated and in the next version (v0.29) the behavior will change from a \" \\\n",
      " 47%|████▋     | 48/102 [00:19<00:21,  2.56it/s]/usr/local/anaconda/lib/python3.6/site-packages/shap/explainers/kernel.py:535: UserWarning: l1_reg=\"auto\" is deprecated and in the next version (v0.29) the behavior will change from a conditional use of AIC to simply \"num_features(10)\"!\n",
      "  \"l1_reg=\\\"auto\\\" is deprecated and in the next version (v0.29) the behavior will change from a \" \\\n",
      " 48%|████▊     | 49/102 [00:19<00:21,  2.49it/s]/usr/local/anaconda/lib/python3.6/site-packages/shap/explainers/kernel.py:535: UserWarning: l1_reg=\"auto\" is deprecated and in the next version (v0.29) the behavior will change from a conditional use of AIC to simply \"num_features(10)\"!\n",
      "  \"l1_reg=\\\"auto\\\" is deprecated and in the next version (v0.29) the behavior will change from a \" \\\n",
      " 49%|████▉     | 50/102 [00:19<00:20,  2.50it/s]/usr/local/anaconda/lib/python3.6/site-packages/shap/explainers/kernel.py:535: UserWarning: l1_reg=\"auto\" is deprecated and in the next version (v0.29) the behavior will change from a conditional use of AIC to simply \"num_features(10)\"!\n",
      "  \"l1_reg=\\\"auto\\\" is deprecated and in the next version (v0.29) the behavior will change from a \" \\\n",
      " 50%|█████     | 51/102 [00:20<00:19,  2.57it/s]/usr/local/anaconda/lib/python3.6/site-packages/shap/explainers/kernel.py:535: UserWarning: l1_reg=\"auto\" is deprecated and in the next version (v0.29) the behavior will change from a conditional use of AIC to simply \"num_features(10)\"!\n",
      "  \"l1_reg=\\\"auto\\\" is deprecated and in the next version (v0.29) the behavior will change from a \" \\\n",
      " 51%|█████     | 52/102 [00:20<00:20,  2.49it/s]/usr/local/anaconda/lib/python3.6/site-packages/shap/explainers/kernel.py:535: UserWarning: l1_reg=\"auto\" is deprecated and in the next version (v0.29) the behavior will change from a conditional use of AIC to simply \"num_features(10)\"!\n",
      "  \"l1_reg=\\\"auto\\\" is deprecated and in the next version (v0.29) the behavior will change from a \" \\\n",
      " 52%|█████▏    | 53/102 [00:21<00:19,  2.46it/s]/usr/local/anaconda/lib/python3.6/site-packages/shap/explainers/kernel.py:535: UserWarning: l1_reg=\"auto\" is deprecated and in the next version (v0.29) the behavior will change from a conditional use of AIC to simply \"num_features(10)\"!\n",
      "  \"l1_reg=\\\"auto\\\" is deprecated and in the next version (v0.29) the behavior will change from a \" \\\n",
      " 53%|█████▎    | 54/102 [00:21<00:19,  2.43it/s]/usr/local/anaconda/lib/python3.6/site-packages/shap/explainers/kernel.py:535: UserWarning: l1_reg=\"auto\" is deprecated and in the next version (v0.29) the behavior will change from a conditional use of AIC to simply \"num_features(10)\"!\n",
      "  \"l1_reg=\\\"auto\\\" is deprecated and in the next version (v0.29) the behavior will change from a \" \\\n",
      " 54%|█████▍    | 55/102 [00:21<00:18,  2.52it/s]/usr/local/anaconda/lib/python3.6/site-packages/shap/explainers/kernel.py:535: UserWarning: l1_reg=\"auto\" is deprecated and in the next version (v0.29) the behavior will change from a conditional use of AIC to simply \"num_features(10)\"!\n",
      "  \"l1_reg=\\\"auto\\\" is deprecated and in the next version (v0.29) the behavior will change from a \" \\\n",
      " 55%|█████▍    | 56/102 [00:22<00:18,  2.44it/s]/usr/local/anaconda/lib/python3.6/site-packages/shap/explainers/kernel.py:535: UserWarning: l1_reg=\"auto\" is deprecated and in the next version (v0.29) the behavior will change from a conditional use of AIC to simply \"num_features(10)\"!\n",
      "  \"l1_reg=\\\"auto\\\" is deprecated and in the next version (v0.29) the behavior will change from a \" \\\n",
      " 56%|█████▌    | 57/102 [00:22<00:18,  2.44it/s]/usr/local/anaconda/lib/python3.6/site-packages/shap/explainers/kernel.py:535: UserWarning: l1_reg=\"auto\" is deprecated and in the next version (v0.29) the behavior will change from a conditional use of AIC to simply \"num_features(10)\"!\n",
      "  \"l1_reg=\\\"auto\\\" is deprecated and in the next version (v0.29) the behavior will change from a \" \\\n",
      " 57%|█████▋    | 58/102 [00:23<00:18,  2.43it/s]/usr/local/anaconda/lib/python3.6/site-packages/shap/explainers/kernel.py:535: UserWarning: l1_reg=\"auto\" is deprecated and in the next version (v0.29) the behavior will change from a conditional use of AIC to simply \"num_features(10)\"!\n",
      "  \"l1_reg=\\\"auto\\\" is deprecated and in the next version (v0.29) the behavior will change from a \" \\\n",
      " 58%|█████▊    | 59/102 [00:23<00:17,  2.41it/s]/usr/local/anaconda/lib/python3.6/site-packages/shap/explainers/kernel.py:535: UserWarning: l1_reg=\"auto\" is deprecated and in the next version (v0.29) the behavior will change from a conditional use of AIC to simply \"num_features(10)\"!\n",
      "  \"l1_reg=\\\"auto\\\" is deprecated and in the next version (v0.29) the behavior will change from a \" \\\n",
      " 59%|█████▉    | 60/102 [00:24<00:17,  2.41it/s]/usr/local/anaconda/lib/python3.6/site-packages/shap/explainers/kernel.py:535: UserWarning: l1_reg=\"auto\" is deprecated and in the next version (v0.29) the behavior will change from a conditional use of AIC to simply \"num_features(10)\"!\n",
      "  \"l1_reg=\\\"auto\\\" is deprecated and in the next version (v0.29) the behavior will change from a \" \\\n",
      " 60%|█████▉    | 61/102 [00:24<00:16,  2.42it/s]/usr/local/anaconda/lib/python3.6/site-packages/shap/explainers/kernel.py:535: UserWarning: l1_reg=\"auto\" is deprecated and in the next version (v0.29) the behavior will change from a conditional use of AIC to simply \"num_features(10)\"!\n",
      "  \"l1_reg=\\\"auto\\\" is deprecated and in the next version (v0.29) the behavior will change from a \" \\\n",
      " 61%|██████    | 62/102 [00:24<00:17,  2.35it/s]/usr/local/anaconda/lib/python3.6/site-packages/shap/explainers/kernel.py:535: UserWarning: l1_reg=\"auto\" is deprecated and in the next version (v0.29) the behavior will change from a conditional use of AIC to simply \"num_features(10)\"!\n",
      "  \"l1_reg=\\\"auto\\\" is deprecated and in the next version (v0.29) the behavior will change from a \" \\\n",
      " 62%|██████▏   | 63/102 [00:25<00:16,  2.30it/s]/usr/local/anaconda/lib/python3.6/site-packages/shap/explainers/kernel.py:535: UserWarning: l1_reg=\"auto\" is deprecated and in the next version (v0.29) the behavior will change from a conditional use of AIC to simply \"num_features(10)\"!\n",
      "  \"l1_reg=\\\"auto\\\" is deprecated and in the next version (v0.29) the behavior will change from a \" \\\n",
      " 63%|██████▎   | 64/102 [00:25<00:16,  2.35it/s]/usr/local/anaconda/lib/python3.6/site-packages/shap/explainers/kernel.py:535: UserWarning: l1_reg=\"auto\" is deprecated and in the next version (v0.29) the behavior will change from a conditional use of AIC to simply \"num_features(10)\"!\n",
      "  \"l1_reg=\\\"auto\\\" is deprecated and in the next version (v0.29) the behavior will change from a \" \\\n",
      " 64%|██████▎   | 65/102 [00:26<00:15,  2.42it/s]/usr/local/anaconda/lib/python3.6/site-packages/shap/explainers/kernel.py:535: UserWarning: l1_reg=\"auto\" is deprecated and in the next version (v0.29) the behavior will change from a conditional use of AIC to simply \"num_features(10)\"!\n",
      "  \"l1_reg=\\\"auto\\\" is deprecated and in the next version (v0.29) the behavior will change from a \" \\\n"
     ]
    },
    {
     "name": "stderr",
     "output_type": "stream",
     "text": [
      " 65%|██████▍   | 66/102 [00:26<00:14,  2.46it/s]/usr/local/anaconda/lib/python3.6/site-packages/shap/explainers/kernel.py:535: UserWarning: l1_reg=\"auto\" is deprecated and in the next version (v0.29) the behavior will change from a conditional use of AIC to simply \"num_features(10)\"!\n",
      "  \"l1_reg=\\\"auto\\\" is deprecated and in the next version (v0.29) the behavior will change from a \" \\\n",
      " 66%|██████▌   | 67/102 [00:26<00:14,  2.48it/s]/usr/local/anaconda/lib/python3.6/site-packages/shap/explainers/kernel.py:535: UserWarning: l1_reg=\"auto\" is deprecated and in the next version (v0.29) the behavior will change from a conditional use of AIC to simply \"num_features(10)\"!\n",
      "  \"l1_reg=\\\"auto\\\" is deprecated and in the next version (v0.29) the behavior will change from a \" \\\n",
      " 67%|██████▋   | 68/102 [00:27<00:13,  2.44it/s]/usr/local/anaconda/lib/python3.6/site-packages/shap/explainers/kernel.py:535: UserWarning: l1_reg=\"auto\" is deprecated and in the next version (v0.29) the behavior will change from a conditional use of AIC to simply \"num_features(10)\"!\n",
      "  \"l1_reg=\\\"auto\\\" is deprecated and in the next version (v0.29) the behavior will change from a \" \\\n",
      " 68%|██████▊   | 69/102 [00:27<00:13,  2.48it/s]/usr/local/anaconda/lib/python3.6/site-packages/shap/explainers/kernel.py:535: UserWarning: l1_reg=\"auto\" is deprecated and in the next version (v0.29) the behavior will change from a conditional use of AIC to simply \"num_features(10)\"!\n",
      "  \"l1_reg=\\\"auto\\\" is deprecated and in the next version (v0.29) the behavior will change from a \" \\\n",
      " 69%|██████▊   | 70/102 [00:28<00:12,  2.48it/s]/usr/local/anaconda/lib/python3.6/site-packages/shap/explainers/kernel.py:535: UserWarning: l1_reg=\"auto\" is deprecated and in the next version (v0.29) the behavior will change from a conditional use of AIC to simply \"num_features(10)\"!\n",
      "  \"l1_reg=\\\"auto\\\" is deprecated and in the next version (v0.29) the behavior will change from a \" \\\n",
      " 70%|██████▉   | 71/102 [00:28<00:12,  2.52it/s]/usr/local/anaconda/lib/python3.6/site-packages/shap/explainers/kernel.py:535: UserWarning: l1_reg=\"auto\" is deprecated and in the next version (v0.29) the behavior will change from a conditional use of AIC to simply \"num_features(10)\"!\n",
      "  \"l1_reg=\\\"auto\\\" is deprecated and in the next version (v0.29) the behavior will change from a \" \\\n",
      " 71%|███████   | 72/102 [00:29<00:12,  2.48it/s]/usr/local/anaconda/lib/python3.6/site-packages/shap/explainers/kernel.py:535: UserWarning: l1_reg=\"auto\" is deprecated and in the next version (v0.29) the behavior will change from a conditional use of AIC to simply \"num_features(10)\"!\n",
      "  \"l1_reg=\\\"auto\\\" is deprecated and in the next version (v0.29) the behavior will change from a \" \\\n",
      " 72%|███████▏  | 73/102 [00:29<00:11,  2.47it/s]/usr/local/anaconda/lib/python3.6/site-packages/shap/explainers/kernel.py:535: UserWarning: l1_reg=\"auto\" is deprecated and in the next version (v0.29) the behavior will change from a conditional use of AIC to simply \"num_features(10)\"!\n",
      "  \"l1_reg=\\\"auto\\\" is deprecated and in the next version (v0.29) the behavior will change from a \" \\\n",
      " 73%|███████▎  | 74/102 [00:29<00:11,  2.50it/s]/usr/local/anaconda/lib/python3.6/site-packages/shap/explainers/kernel.py:535: UserWarning: l1_reg=\"auto\" is deprecated and in the next version (v0.29) the behavior will change from a conditional use of AIC to simply \"num_features(10)\"!\n",
      "  \"l1_reg=\\\"auto\\\" is deprecated and in the next version (v0.29) the behavior will change from a \" \\\n",
      " 74%|███████▎  | 75/102 [00:30<00:10,  2.52it/s]/usr/local/anaconda/lib/python3.6/site-packages/shap/explainers/kernel.py:535: UserWarning: l1_reg=\"auto\" is deprecated and in the next version (v0.29) the behavior will change from a conditional use of AIC to simply \"num_features(10)\"!\n",
      "  \"l1_reg=\\\"auto\\\" is deprecated and in the next version (v0.29) the behavior will change from a \" \\\n",
      " 75%|███████▍  | 76/102 [00:30<00:10,  2.52it/s]/usr/local/anaconda/lib/python3.6/site-packages/shap/explainers/kernel.py:535: UserWarning: l1_reg=\"auto\" is deprecated and in the next version (v0.29) the behavior will change from a conditional use of AIC to simply \"num_features(10)\"!\n",
      "  \"l1_reg=\\\"auto\\\" is deprecated and in the next version (v0.29) the behavior will change from a \" \\\n",
      " 75%|███████▌  | 77/102 [00:31<00:10,  2.49it/s]/usr/local/anaconda/lib/python3.6/site-packages/shap/explainers/kernel.py:535: UserWarning: l1_reg=\"auto\" is deprecated and in the next version (v0.29) the behavior will change from a conditional use of AIC to simply \"num_features(10)\"!\n",
      "  \"l1_reg=\\\"auto\\\" is deprecated and in the next version (v0.29) the behavior will change from a \" \\\n",
      " 76%|███████▋  | 78/102 [00:31<00:09,  2.48it/s]/usr/local/anaconda/lib/python3.6/site-packages/shap/explainers/kernel.py:535: UserWarning: l1_reg=\"auto\" is deprecated and in the next version (v0.29) the behavior will change from a conditional use of AIC to simply \"num_features(10)\"!\n",
      "  \"l1_reg=\\\"auto\\\" is deprecated and in the next version (v0.29) the behavior will change from a \" \\\n",
      " 77%|███████▋  | 79/102 [00:31<00:09,  2.45it/s]/usr/local/anaconda/lib/python3.6/site-packages/shap/explainers/kernel.py:535: UserWarning: l1_reg=\"auto\" is deprecated and in the next version (v0.29) the behavior will change from a conditional use of AIC to simply \"num_features(10)\"!\n",
      "  \"l1_reg=\\\"auto\\\" is deprecated and in the next version (v0.29) the behavior will change from a \" \\\n",
      " 78%|███████▊  | 80/102 [00:32<00:08,  2.53it/s]/usr/local/anaconda/lib/python3.6/site-packages/shap/explainers/kernel.py:535: UserWarning: l1_reg=\"auto\" is deprecated and in the next version (v0.29) the behavior will change from a conditional use of AIC to simply \"num_features(10)\"!\n",
      "  \"l1_reg=\\\"auto\\\" is deprecated and in the next version (v0.29) the behavior will change from a \" \\\n",
      " 79%|███████▉  | 81/102 [00:32<00:08,  2.51it/s]/usr/local/anaconda/lib/python3.6/site-packages/shap/explainers/kernel.py:535: UserWarning: l1_reg=\"auto\" is deprecated and in the next version (v0.29) the behavior will change from a conditional use of AIC to simply \"num_features(10)\"!\n",
      "  \"l1_reg=\\\"auto\\\" is deprecated and in the next version (v0.29) the behavior will change from a \" \\\n",
      " 80%|████████  | 82/102 [00:32<00:07,  2.53it/s]/usr/local/anaconda/lib/python3.6/site-packages/shap/explainers/kernel.py:535: UserWarning: l1_reg=\"auto\" is deprecated and in the next version (v0.29) the behavior will change from a conditional use of AIC to simply \"num_features(10)\"!\n",
      "  \"l1_reg=\\\"auto\\\" is deprecated and in the next version (v0.29) the behavior will change from a \" \\\n",
      " 81%|████████▏ | 83/102 [00:33<00:07,  2.53it/s]/usr/local/anaconda/lib/python3.6/site-packages/shap/explainers/kernel.py:535: UserWarning: l1_reg=\"auto\" is deprecated and in the next version (v0.29) the behavior will change from a conditional use of AIC to simply \"num_features(10)\"!\n",
      "  \"l1_reg=\\\"auto\\\" is deprecated and in the next version (v0.29) the behavior will change from a \" \\\n",
      " 82%|████████▏ | 84/102 [00:33<00:07,  2.49it/s]/usr/local/anaconda/lib/python3.6/site-packages/shap/explainers/kernel.py:535: UserWarning: l1_reg=\"auto\" is deprecated and in the next version (v0.29) the behavior will change from a conditional use of AIC to simply \"num_features(10)\"!\n",
      "  \"l1_reg=\\\"auto\\\" is deprecated and in the next version (v0.29) the behavior will change from a \" \\\n",
      " 83%|████████▎ | 85/102 [00:34<00:06,  2.49it/s]/usr/local/anaconda/lib/python3.6/site-packages/shap/explainers/kernel.py:535: UserWarning: l1_reg=\"auto\" is deprecated and in the next version (v0.29) the behavior will change from a conditional use of AIC to simply \"num_features(10)\"!\n",
      "  \"l1_reg=\\\"auto\\\" is deprecated and in the next version (v0.29) the behavior will change from a \" \\\n",
      " 84%|████████▍ | 86/102 [00:34<00:06,  2.49it/s]/usr/local/anaconda/lib/python3.6/site-packages/shap/explainers/kernel.py:535: UserWarning: l1_reg=\"auto\" is deprecated and in the next version (v0.29) the behavior will change from a conditional use of AIC to simply \"num_features(10)\"!\n",
      "  \"l1_reg=\\\"auto\\\" is deprecated and in the next version (v0.29) the behavior will change from a \" \\\n",
      " 85%|████████▌ | 87/102 [00:35<00:06,  2.48it/s]/usr/local/anaconda/lib/python3.6/site-packages/shap/explainers/kernel.py:535: UserWarning: l1_reg=\"auto\" is deprecated and in the next version (v0.29) the behavior will change from a conditional use of AIC to simply \"num_features(10)\"!\n",
      "  \"l1_reg=\\\"auto\\\" is deprecated and in the next version (v0.29) the behavior will change from a \" \\\n"
     ]
    },
    {
     "name": "stderr",
     "output_type": "stream",
     "text": [
      " 86%|████████▋ | 88/102 [00:35<00:05,  2.53it/s]/usr/local/anaconda/lib/python3.6/site-packages/shap/explainers/kernel.py:535: UserWarning: l1_reg=\"auto\" is deprecated and in the next version (v0.29) the behavior will change from a conditional use of AIC to simply \"num_features(10)\"!\n",
      "  \"l1_reg=\\\"auto\\\" is deprecated and in the next version (v0.29) the behavior will change from a \" \\\n",
      " 87%|████████▋ | 89/102 [00:35<00:05,  2.53it/s]/usr/local/anaconda/lib/python3.6/site-packages/shap/explainers/kernel.py:535: UserWarning: l1_reg=\"auto\" is deprecated and in the next version (v0.29) the behavior will change from a conditional use of AIC to simply \"num_features(10)\"!\n",
      "  \"l1_reg=\\\"auto\\\" is deprecated and in the next version (v0.29) the behavior will change from a \" \\\n",
      " 88%|████████▊ | 90/102 [00:36<00:04,  2.50it/s]"
     ]
    }
   ],
   "source": [
    "# using kmeans\n",
    "t0 = time.time()\n",
    "explainerKNN = shap.KernelExplainer(knn.predict, X_train_summary)\n",
    "shap_values_KNN_test = explainerKNN.shap_values(X_test)\n",
    "shap_values_KNN_train = explainerKNN.shap_values(X_train)\n",
    "t1 = time.time()\n",
    "timeit=t1-t0\n",
    "timeit"
   ]
  },
  {
   "cell_type": "code",
   "execution_count": null,
   "metadata": {},
   "outputs": [],
   "source": [
    "# without kmeans a test run took 3967.6232330799103 seconds\n",
    "\"\"\"\n",
    "t0 = time.time()\n",
    "explainerKNN = shap.KernelExplainer(knn.predict, X_train)\n",
    "shap_values_KNN_test = explainerKNN.shap_values(X_test)\n",
    "shap_values_KNN_train = explainerKNN.shap_values(X_train)\n",
    "t1 = time.time()\n",
    "timeit=t1-t0\n",
    "timeit \n",
    "\"\"\""
   ]
  },
  {
   "cell_type": "markdown",
   "metadata": {},
   "source": [
    "#### Get the SHAP values into dataframes so we can use them later on"
   ]
  },
  {
   "cell_type": "code",
   "execution_count": null,
   "metadata": {},
   "outputs": [],
   "source": [
    "# XGBoost\n",
    "df_shap_XGB_test = pd.DataFrame(shap_values_XGB_test, columns=X_test.columns.values)\n",
    "df_shap_XGB_train = pd.DataFrame(shap_values_XGB_train, columns=X_train.columns.values)\n",
    "# Scikit GBT\n",
    "df_shap_SKGBT_test = pd.DataFrame(shap_values_SKGBT_test, columns=X_test.columns.values)\n",
    "df_shap_SKGBT_train = pd.DataFrame(shap_values_SKGBT_train, columns=X_train.columns.values)\n",
    "# Random Forest\n",
    "df_shap_RF_test = pd.DataFrame(shap_values_RF_test, columns=X_test.columns.values)\n",
    "df_shap_RF_train = pd.DataFrame(shap_values_RF_train, columns=X_train.columns.values)\n",
    "# KNN\n",
    "df_shap_KNN_test = pd.DataFrame(shap_values_KNN_test, columns=X_test.columns.values)\n",
    "df_shap_KNN_train = pd.DataFrame(shap_values_KNN_train, columns=X_train.columns.values)"
   ]
  },
  {
   "cell_type": "markdown",
   "metadata": {},
   "source": [
    "## Create the LIME Explainer"
   ]
  },
  {
   "cell_type": "code",
   "execution_count": null,
   "metadata": {},
   "outputs": [],
   "source": [
    "# if a feature has 10 or less unique values then treat it as categorical\n",
    "categorical_features = np.argwhere(np.array([len(set(X_train.values[:,x])) \n",
    "                                             for x in range(X_train.values.shape[1])]) <= 10).flatten()"
   ]
  },
  {
   "cell_type": "code",
   "execution_count": null,
   "metadata": {},
   "outputs": [],
   "source": [
    "# LIME has one explainer for all models\n",
    "explainer = lime.lime_tabular.LimeTabularExplainer(X_train.values, \n",
    "                                                   feature_names=X_train.columns.values.tolist(), \n",
    "                                                   class_names=['price'], \n",
    "                                                   categorical_features=categorical_features, \n",
    "                                                   verbose=True, \n",
    "                                                   mode='regression')"
   ]
  },
  {
   "cell_type": "markdown",
   "metadata": {},
   "source": [
    "## Explaining an Instance (local interpretability)"
   ]
  },
  {
   "cell_type": "markdown",
   "metadata": {},
   "source": [
    "Pick an instance to explain"
   ]
  },
  {
   "cell_type": "code",
   "execution_count": null,
   "metadata": {},
   "outputs": [],
   "source": [
    "j = np.random.randint(0, X_test.shape[0])"
   ]
  },
  {
   "cell_type": "code",
   "execution_count": null,
   "metadata": {},
   "outputs": [],
   "source": [
    "# optional, set j manually\n",
    "j = 0"
   ]
  },
  {
   "cell_type": "code",
   "execution_count": null,
   "metadata": {},
   "outputs": [],
   "source": [
    "# initialize js\n",
    "shap.initjs()"
   ]
  },
  {
   "cell_type": "markdown",
   "metadata": {},
   "source": [
    "### XGBoost"
   ]
  },
  {
   "cell_type": "markdown",
   "metadata": {},
   "source": [
    "#### SHAP"
   ]
  },
  {
   "cell_type": "code",
   "execution_count": null,
   "metadata": {},
   "outputs": [],
   "source": [
    "shap.force_plot(explainerXGB.expected_value, shap_values_XGB_test[j], X_test.iloc[[j]])"
   ]
  },
  {
   "cell_type": "markdown",
   "metadata": {},
   "source": [
    "#### LIME"
   ]
  },
  {
   "cell_type": "markdown",
   "metadata": {},
   "source": [
    "Out-of-the-box LIME cannot handle the requirement of XGBoost to use xgb.DMatrix() on the input data"
   ]
  },
  {
   "cell_type": "code",
   "execution_count": null,
   "metadata": {},
   "outputs": [],
   "source": [
    "# the predict function input doesn't jive wtih LIME\n",
    "xgb_model.predict(xgb.DMatrix(X_test.iloc[[j]]))"
   ]
  },
  {
   "cell_type": "code",
   "execution_count": null,
   "metadata": {},
   "outputs": [],
   "source": [
    "# this will throw an error\n",
    "\"\"\"\n",
    "expXGB = explainer.explain_instance(X_test.values[j], xgb_model.predict, num_features=5)\n",
    "expXGB.show_in_notebook(show_table=True)\n",
    "\"\"\""
   ]
  },
  {
   "cell_type": "markdown",
   "metadata": {},
   "source": [
    "### Scikit-learn GBT"
   ]
  },
  {
   "cell_type": "markdown",
   "metadata": {},
   "source": [
    "#### SHAP"
   ]
  },
  {
   "cell_type": "code",
   "execution_count": null,
   "metadata": {
    "scrolled": true
   },
   "outputs": [],
   "source": [
    "shap.force_plot(explainerSKGBT.expected_value, shap_values_SKGBT_test[j], X_test.iloc[[j]])"
   ]
  },
  {
   "cell_type": "markdown",
   "metadata": {},
   "source": [
    "#### LIME"
   ]
  },
  {
   "cell_type": "code",
   "execution_count": null,
   "metadata": {},
   "outputs": [],
   "source": [
    "expSKGBT = explainer.explain_instance(X_test.values[j], sk_xgb.predict, num_features=5)\n",
    "expSKGBT.show_in_notebook(show_table=True)"
   ]
  },
  {
   "cell_type": "markdown",
   "metadata": {},
   "source": [
    "### Random Forest"
   ]
  },
  {
   "cell_type": "markdown",
   "metadata": {},
   "source": [
    "#### SHAP"
   ]
  },
  {
   "cell_type": "code",
   "execution_count": null,
   "metadata": {},
   "outputs": [],
   "source": [
    "shap.force_plot(explainerRF.expected_value, shap_values_RF_test[j], X_test.iloc[[j]])"
   ]
  },
  {
   "cell_type": "markdown",
   "metadata": {},
   "source": [
    "#### LIME"
   ]
  },
  {
   "cell_type": "code",
   "execution_count": null,
   "metadata": {},
   "outputs": [],
   "source": [
    "exp = explainer.explain_instance(X_test.values[j], rf.predict, num_features=5)\n",
    "exp.show_in_notebook(show_table=True)"
   ]
  },
  {
   "cell_type": "markdown",
   "metadata": {},
   "source": [
    "### KNN"
   ]
  },
  {
   "cell_type": "markdown",
   "metadata": {},
   "source": [
    "#### SHAP"
   ]
  },
  {
   "cell_type": "code",
   "execution_count": null,
   "metadata": {},
   "outputs": [],
   "source": [
    "shap.force_plot(explainerKNN.expected_value, shap_values_KNN_test[j], X_test.iloc[[j]])"
   ]
  },
  {
   "cell_type": "markdown",
   "metadata": {},
   "source": [
    "#### LIME"
   ]
  },
  {
   "cell_type": "code",
   "execution_count": null,
   "metadata": {},
   "outputs": [],
   "source": [
    "exp = explainer.explain_instance(X_test.values[j], knn.predict, num_features=5)\n",
    "exp.show_in_notebook(show_table=True)"
   ]
  },
  {
   "cell_type": "markdown",
   "metadata": {},
   "source": [
    "## Explaining the Global Model"
   ]
  },
  {
   "cell_type": "markdown",
   "metadata": {},
   "source": [
    "#### Importance plot via SHAP values"
   ]
  },
  {
   "cell_type": "code",
   "execution_count": null,
   "metadata": {},
   "outputs": [],
   "source": [
    "shap.summary_plot(shap_values_XGB_train, X_train, plot_type=\"bar\")"
   ]
  },
  {
   "cell_type": "markdown",
   "metadata": {},
   "source": [
    "#### Similar to variable importance, this shows the SHAP values for every instance from the training dataset"
   ]
  },
  {
   "cell_type": "code",
   "execution_count": null,
   "metadata": {},
   "outputs": [],
   "source": [
    "shap.summary_plot(shap_values_XGB_train, X_train)"
   ]
  },
  {
   "cell_type": "markdown",
   "metadata": {},
   "source": [
    "#### Variable Influence or Dependency Plots"
   ]
  },
  {
   "cell_type": "markdown",
   "metadata": {},
   "source": [
    "Default SHAP dependency plot"
   ]
  },
  {
   "cell_type": "code",
   "execution_count": null,
   "metadata": {},
   "outputs": [],
   "source": [
    "shp_plt = shap.dependence_plot(\"LSTAT\", shap_values_XGB_train, X_train)"
   ]
  },
  {
   "cell_type": "markdown",
   "metadata": {},
   "source": [
    "The following modifies the default graph a bit to (1) highlight the jth instance with a black dot and (2) pick the color by variable ourselves"
   ]
  },
  {
   "cell_type": "code",
   "execution_count": null,
   "metadata": {},
   "outputs": [],
   "source": [
    "# inputs = column of interest as string, column for coloring as string, df of our data, SHAP df, \n",
    "#          x postion of the black dot, y position of the black dot\n",
    "\n",
    "def dep_plt(col, color_by, base_actual_df, base_shap_df, overlay_x, overlay_y):\n",
    "    cmap=sns.diverging_palette(260, 10, sep=1, as_cmap=True) #seaborn pallete\n",
    "    f, ax = plt.subplots()\n",
    "    points = ax.scatter(base_actual_df[col], base_shap_df[col], c=base_actual_df[color_by], s=20, cmap=cmap)\n",
    "    f.colorbar(points).set_label(color_by)\n",
    "    ax.scatter(overlay_x, overlay_y, color='black', s=50)\n",
    "    plt.xlabel(col)\n",
    "    plt.ylabel(\"SHAP value for \" + col)\n",
    "    plt.show()"
   ]
  },
  {
   "cell_type": "code",
   "execution_count": null,
   "metadata": {},
   "outputs": [],
   "source": [
    "# get list of model inputs in order of SHAP importance\n",
    "imp_cols = df_shap_XGB_train.abs().mean().sort_values(ascending=False).index.tolist()\n",
    "\n",
    "# loop through this list to show top 3 dependency plots\n",
    "for i in range(0, len(imp_cols)):\n",
    "    #plot the top var and color by the 2nd var\n",
    "    if i == 0 : \n",
    "        dep_plt(imp_cols[i], \n",
    "                imp_cols[i+1], \n",
    "                X_train, \n",
    "                df_shap_XGB_train,\n",
    "                X_test.iloc[j,:][imp_cols[i]], \n",
    "                df_shap_XGB_test.iloc[j,:][imp_cols[i]])\n",
    "    #plot the 2nd and 3rd vars and color by the top var\n",
    "    if (i > 0) and (i < 3) : \n",
    "        dep_plt(imp_cols[i], \n",
    "                imp_cols[0], \n",
    "                X_train, \n",
    "                df_shap_XGB_train,\n",
    "                X_test.iloc[j,:][imp_cols[i]], \n",
    "                df_shap_XGB_test.iloc[j,:][imp_cols[i]])"
   ]
  },
  {
   "cell_type": "code",
   "execution_count": null,
   "metadata": {},
   "outputs": [],
   "source": []
  }
 ],
 "metadata": {
  "kernelspec": {
   "display_name": "Python 3",
   "language": "python",
   "name": "python3"
  },
  "language_info": {
   "codemirror_mode": {
    "name": "ipython",
    "version": 3
   },
   "file_extension": ".py",
   "mimetype": "text/x-python",
   "name": "python",
   "nbconvert_exporter": "python",
   "pygments_lexer": "ipython3",
   "version": "3.6.8"
  },
  "nikola": {
   "date": "2017-09-09 21:09:01 UTC+10:00",
   "slug": "test-slug",
   "title": "Using SHAP and LIME python libraries to Explain Black Box Models"
  }
 },
 "nbformat": 4,
 "nbformat_minor": 2
}
